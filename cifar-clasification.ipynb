{
 "cells": [
  {
   "cell_type": "markdown",
   "id": "3bb39f4a",
   "metadata": {
    "papermill": {
     "duration": 0.019458,
     "end_time": "2022-04-18T21:30:46.090197",
     "exception": false,
     "start_time": "2022-04-18T21:30:46.070739",
     "status": "completed"
    },
    "tags": []
   },
   "source": [
    "## Importando librerías"
   ]
  },
  {
   "cell_type": "code",
   "execution_count": 1,
   "id": "903b5ad1",
   "metadata": {
    "_cell_guid": "b1076dfc-b9ad-4769-8c92-a6c4dae69d19",
    "_uuid": "8f2839f25d086af736a60e9eeb907d3b93b6e0e5",
    "execution": {
     "iopub.execute_input": "2022-04-18T21:30:46.205649Z",
     "iopub.status.busy": "2022-04-18T21:30:46.204890Z",
     "iopub.status.idle": "2022-04-18T21:30:50.419417Z",
     "shell.execute_reply": "2022-04-18T21:30:50.420073Z"
    },
    "papermill": {
     "duration": 4.310397,
     "end_time": "2022-04-18T21:30:50.420476",
     "exception": false,
     "start_time": "2022-04-18T21:30:46.110079",
     "status": "completed"
    },
    "tags": []
   },
   "outputs": [
    {
     "name": "stderr",
     "output_type": "stream",
     "text": [
      "2022-04-18 21:30:46.679781: I tensorflow/stream_executor/platform/default/dso_loader.cc:49] Successfully opened dynamic library libcudart.so.11.0\n"
     ]
    }
   ],
   "source": [
    "from tensorflow import keras\n",
    "from tensorflow.keras.utils import to_categorical\n",
    "from tensorflow.keras import regularizers\n",
    "from tensorflow.keras.models import Sequential\n",
    "from tensorflow.keras.layers import Conv2D,MaxPooling2D, Flatten, Dense, Dropout, Activation, BatchNormalization\n",
    "from tensorflow.keras.datasets import cifar10\n",
    "from tensorflow.keras.preprocessing.image import ImageDataGenerator\n",
    "from tensorflow.keras.callbacks import ModelCheckpoint"
   ]
  },
  {
   "cell_type": "code",
   "execution_count": 2,
   "id": "f090074e",
   "metadata": {
    "execution": {
     "iopub.execute_input": "2022-04-18T21:30:50.503328Z",
     "iopub.status.busy": "2022-04-18T21:30:50.501387Z",
     "iopub.status.idle": "2022-04-18T21:30:50.504399Z",
     "shell.execute_reply": "2022-04-18T21:30:50.502365Z"
    },
    "papermill": {
     "duration": 0.049649,
     "end_time": "2022-04-18T21:30:50.504572",
     "exception": false,
     "start_time": "2022-04-18T21:30:50.454923",
     "status": "completed"
    },
    "tags": []
   },
   "outputs": [],
   "source": [
    "import numpy as np\n",
    "import matplotlib.pyplot as plt "
   ]
  },
  {
   "cell_type": "markdown",
   "id": "ff8bd8b0",
   "metadata": {
    "papermill": {
     "duration": 0.038114,
     "end_time": "2022-04-18T21:30:50.581100",
     "exception": false,
     "start_time": "2022-04-18T21:30:50.542986",
     "status": "completed"
    },
    "tags": []
   },
   "source": [
    "## Cargando dataset"
   ]
  },
  {
   "cell_type": "code",
   "execution_count": 3,
   "id": "f431d83b",
   "metadata": {
    "execution": {
     "iopub.execute_input": "2022-04-18T21:30:50.668217Z",
     "iopub.status.busy": "2022-04-18T21:30:50.666576Z",
     "iopub.status.idle": "2022-04-18T21:31:05.333724Z",
     "shell.execute_reply": "2022-04-18T21:31:05.332731Z"
    },
    "papermill": {
     "duration": 14.715914,
     "end_time": "2022-04-18T21:31:05.333886",
     "exception": false,
     "start_time": "2022-04-18T21:30:50.617972",
     "status": "completed"
    },
    "tags": []
   },
   "outputs": [
    {
     "name": "stdout",
     "output_type": "stream",
     "text": [
      "Downloading data from https://www.cs.toronto.edu/~kriz/cifar-10-python.tar.gz\n",
      "170500096/170498071 [==============================] - 12s 0us/step\n"
     ]
    }
   ],
   "source": [
    "(x_train, y_train), (x_test, y_test) = cifar10.load_data()"
   ]
  },
  {
   "cell_type": "code",
   "execution_count": 4,
   "id": "ac039810",
   "metadata": {
    "execution": {
     "iopub.execute_input": "2022-04-18T21:31:05.448143Z",
     "iopub.status.busy": "2022-04-18T21:31:05.447570Z",
     "iopub.status.idle": "2022-04-18T21:31:05.676725Z",
     "shell.execute_reply": "2022-04-18T21:31:05.677317Z"
    },
    "papermill": {
     "duration": 0.29603,
     "end_time": "2022-04-18T21:31:05.677479",
     "exception": false,
     "start_time": "2022-04-18T21:31:05.381449",
     "status": "completed"
    },
    "tags": []
   },
   "outputs": [
    {
     "data": {
      "text/plain": [
       "<matplotlib.image.AxesImage at 0x7f519fc6ee50>"
      ]
     },
     "execution_count": 4,
     "metadata": {},
     "output_type": "execute_result"
    },
    {
     "data": {
      "image/png": "[encoded data removed]",
      "text/plain": [
       "<Figure size 432x288 with 1 Axes>"
      ]
     },
     "metadata": {
      "needs_background": "light"
     },
     "output_type": "display_data"
    }
   ],
   "source": [
    "plt.imshow(x_train[5])"
   ]
  },
  {
   "cell_type": "markdown",
   "id": "5fdfcbba",
   "metadata": {
    "papermill": {
     "duration": 0.05227,
     "end_time": "2022-04-18T21:31:05.781446",
     "exception": false,
     "start_time": "2022-04-18T21:31:05.729176",
     "status": "completed"
    },
    "tags": []
   },
   "source": [
    "## Limpieza de datos"
   ]
  },
  {
   "cell_type": "code",
   "execution_count": 5,
   "id": "1b93c342",
   "metadata": {
    "execution": {
     "iopub.execute_input": "2022-04-18T21:31:05.887137Z",
     "iopub.status.busy": "2022-04-18T21:31:05.886055Z",
     "iopub.status.idle": "2022-04-18T21:31:06.072197Z",
     "shell.execute_reply": "2022-04-18T21:31:06.071558Z"
    },
    "papermill": {
     "duration": 0.238659,
     "end_time": "2022-04-18T21:31:06.072356",
     "exception": false,
     "start_time": "2022-04-18T21:31:05.833697",
     "status": "completed"
    },
    "tags": []
   },
   "outputs": [],
   "source": [
    "x_train = x_train.astype('float32')\n",
    "x_test = x_test.astype('float32')"
   ]
  },
  {
   "cell_type": "code",
   "execution_count": 6,
   "id": "c52df518",
   "metadata": {
    "execution": {
     "iopub.execute_input": "2022-04-18T21:31:06.171084Z",
     "iopub.status.busy": "2022-04-18T21:31:06.170293Z",
     "iopub.status.idle": "2022-04-18T21:31:06.176614Z",
     "shell.execute_reply": "2022-04-18T21:31:06.176142Z"
    },
    "papermill": {
     "duration": 0.05679,
     "end_time": "2022-04-18T21:31:06.176719",
     "exception": false,
     "start_time": "2022-04-18T21:31:06.119929",
     "status": "completed"
    },
    "tags": []
   },
   "outputs": [],
   "source": [
    "num_clases = len(np.unique(y_train))\n",
    "y_train = to_categorical(y_train, num_clases)\n",
    "y_test = to_categorical(y_test, num_clases)"
   ]
  },
  {
   "cell_type": "code",
   "execution_count": 7,
   "id": "8e78fddf",
   "metadata": {
    "execution": {
     "iopub.execute_input": "2022-04-18T21:31:06.274989Z",
     "iopub.status.busy": "2022-04-18T21:31:06.273896Z",
     "iopub.status.idle": "2022-04-18T21:31:06.277000Z",
     "shell.execute_reply": "2022-04-18T21:31:06.277470Z"
    },
    "papermill": {
     "duration": 0.055469,
     "end_time": "2022-04-18T21:31:06.277607",
     "exception": false,
     "start_time": "2022-04-18T21:31:06.222138",
     "status": "completed"
    },
    "tags": []
   },
   "outputs": [
    {
     "data": {
      "text/plain": [
       "array([0., 0., 0., 0., 0., 0., 1., 0., 0., 0.], dtype=float32)"
      ]
     },
     "execution_count": 7,
     "metadata": {},
     "output_type": "execute_result"
    }
   ],
   "source": [
    "y_train[0]"
   ]
  },
  {
   "cell_type": "markdown",
   "id": "3a89278f",
   "metadata": {
    "papermill": {
     "duration": 0.046754,
     "end_time": "2022-04-18T21:31:06.371738",
     "exception": false,
     "start_time": "2022-04-18T21:31:06.324984",
     "status": "completed"
    },
    "tags": []
   },
   "source": [
    "### Normalization"
   ]
  },
  {
   "cell_type": "code",
   "execution_count": 8,
   "id": "1ae097a2",
   "metadata": {
    "execution": {
     "iopub.execute_input": "2022-04-18T21:31:06.469731Z",
     "iopub.status.busy": "2022-04-18T21:31:06.468825Z",
     "iopub.status.idle": "2022-04-18T21:31:06.877716Z",
     "shell.execute_reply": "2022-04-18T21:31:06.877186Z"
    },
    "papermill": {
     "duration": 0.459596,
     "end_time": "2022-04-18T21:31:06.877847",
     "exception": false,
     "start_time": "2022-04-18T21:31:06.418251",
     "status": "completed"
    },
    "tags": []
   },
   "outputs": [],
   "source": [
    "mean = np.mean(x_train)\n",
    "std = np.std(x_train)"
   ]
  },
  {
   "cell_type": "code",
   "execution_count": 9,
   "id": "3ebcf4b9",
   "metadata": {
    "execution": {
     "iopub.execute_input": "2022-04-18T21:31:07.037297Z",
     "iopub.status.busy": "2022-04-18T21:31:07.036050Z",
     "iopub.status.idle": "2022-04-18T21:31:07.331322Z",
     "shell.execute_reply": "2022-04-18T21:31:07.330589Z"
    },
    "papermill": {
     "duration": 0.376864,
     "end_time": "2022-04-18T21:31:07.331464",
     "exception": false,
     "start_time": "2022-04-18T21:31:06.954600",
     "status": "completed"
    },
    "tags": []
   },
   "outputs": [],
   "source": [
    "x_train = (x_train - mean) / (std+1e-7)\n",
    "x_test = (x_test - mean) / (std+1e-7)"
   ]
  },
  {
   "cell_type": "markdown",
   "id": "20065501",
   "metadata": {
    "papermill": {
     "duration": 0.051468,
     "end_time": "2022-04-18T21:31:07.436831",
     "exception": false,
     "start_time": "2022-04-18T21:31:07.385363",
     "status": "completed"
    },
    "tags": []
   },
   "source": [
    "## Creando set de datos"
   ]
  },
  {
   "cell_type": "code",
   "execution_count": 10,
   "id": "ff945b78",
   "metadata": {
    "execution": {
     "iopub.execute_input": "2022-04-18T21:31:07.552653Z",
     "iopub.status.busy": "2022-04-18T21:31:07.551634Z",
     "iopub.status.idle": "2022-04-18T21:31:07.555401Z",
     "shell.execute_reply": "2022-04-18T21:31:07.556157Z"
    },
    "papermill": {
     "duration": 0.066343,
     "end_time": "2022-04-18T21:31:07.556378",
     "exception": false,
     "start_time": "2022-04-18T21:31:07.490035",
     "status": "completed"
    },
    "tags": []
   },
   "outputs": [
    {
     "name": "stdout",
     "output_type": "stream",
     "text": [
      "x_train shape (45000, 32, 32, 3)\n",
      "train; 45000\n",
      "val; 5000\n",
      "test; 10000\n"
     ]
    }
   ],
   "source": [
    "(x_train, x_valid) = x_train[5000:], x_train[:5000]\n",
    "(y_train, y_valid) = y_train[5000:], y_train[:5000]\n",
    "\n",
    "print('x_train shape', x_train.shape)\n",
    "\n",
    "print('train;', x_train.shape[0])\n",
    "print('val;', x_valid.shape[0])\n",
    "print('test;', x_test.shape[0])"
   ]
  },
  {
   "cell_type": "markdown",
   "id": "4421716d",
   "metadata": {
    "papermill": {
     "duration": 0.048353,
     "end_time": "2022-04-18T21:31:07.657918",
     "exception": false,
     "start_time": "2022-04-18T21:31:07.609565",
     "status": "completed"
    },
    "tags": []
   },
   "source": [
    "## Construyendo nuestro modelo convolucional"
   ]
  },
  {
   "cell_type": "code",
   "execution_count": 11,
   "id": "385a8ad3",
   "metadata": {
    "execution": {
     "iopub.execute_input": "2022-04-18T21:31:07.761977Z",
     "iopub.status.busy": "2022-04-18T21:31:07.760254Z",
     "iopub.status.idle": "2022-04-18T21:31:07.762672Z",
     "shell.execute_reply": "2022-04-18T21:31:07.763113Z"
    },
    "papermill": {
     "duration": 0.056143,
     "end_time": "2022-04-18T21:31:07.763283",
     "exception": false,
     "start_time": "2022-04-18T21:31:07.707140",
     "status": "completed"
    },
    "tags": []
   },
   "outputs": [],
   "source": [
    "base_filtros = 32\n",
    "w_regulatizer = 1e-4"
   ]
  },
  {
   "cell_type": "code",
   "execution_count": 12,
   "id": "869bd95d",
   "metadata": {
    "execution": {
     "iopub.execute_input": "2022-04-18T21:31:07.864676Z",
     "iopub.status.busy": "2022-04-18T21:31:07.863987Z",
     "iopub.status.idle": "2022-04-18T21:31:07.866667Z",
     "shell.execute_reply": "2022-04-18T21:31:07.867070Z"
    },
    "papermill": {
     "duration": 0.055422,
     "end_time": "2022-04-18T21:31:07.867204",
     "exception": false,
     "start_time": "2022-04-18T21:31:07.811782",
     "status": "completed"
    },
    "tags": []
   },
   "outputs": [
    {
     "data": {
      "text/plain": [
       "(32, 32, 3)"
      ]
     },
     "execution_count": 12,
     "metadata": {},
     "output_type": "execute_result"
    }
   ],
   "source": [
    "x_train.shape[1:]"
   ]
  },
  {
   "cell_type": "code",
   "execution_count": 13,
   "id": "734495ad",
   "metadata": {
    "execution": {
     "iopub.execute_input": "2022-04-18T21:31:07.977680Z",
     "iopub.status.busy": "2022-04-18T21:31:07.977068Z",
     "iopub.status.idle": "2022-04-18T21:31:10.065543Z",
     "shell.execute_reply": "2022-04-18T21:31:10.064627Z"
    },
    "papermill": {
     "duration": 2.150154,
     "end_time": "2022-04-18T21:31:10.065713",
     "exception": false,
     "start_time": "2022-04-18T21:31:07.915559",
     "status": "completed"
    },
    "tags": []
   },
   "outputs": [
    {
     "name": "stderr",
     "output_type": "stream",
     "text": [
      "2022-04-18 21:31:07.988401: I tensorflow/compiler/jit/xla_cpu_device.cc:41] Not creating XLA devices, tf_xla_enable_xla_devices not set\n",
      "2022-04-18 21:31:07.991543: I tensorflow/stream_executor/platform/default/dso_loader.cc:49] Successfully opened dynamic library libcuda.so.1\n",
      "2022-04-18 21:31:08.044921: I tensorflow/stream_executor/cuda/cuda_gpu_executor.cc:941] successful NUMA node read from SysFS had negative value (-1), but there must be at least one NUMA node, so returning NUMA node zero\n",
      "2022-04-18 21:31:08.045674: I tensorflow/core/common_runtime/gpu/gpu_device.cc:1720] Found device 0 with properties: \n",
      "pciBusID: 0000:00:04.0 name: Tesla P100-PCIE-16GB computeCapability: 6.0\n",
      "coreClock: 1.3285GHz coreCount: 56 deviceMemorySize: 15.90GiB deviceMemoryBandwidth: 681.88GiB/s\n",
      "2022-04-18 21:31:08.045747: I tensorflow/stream_executor/platform/default/dso_loader.cc:49] Successfully opened dynamic library libcudart.so.11.0\n",
      "2022-04-18 21:31:08.100239: I tensorflow/stream_executor/platform/default/dso_loader.cc:49] Successfully opened dynamic library libcublas.so.11\n",
      "2022-04-18 21:31:08.100339: I tensorflow/stream_executor/platform/default/dso_loader.cc:49] Successfully opened dynamic library libcublasLt.so.11\n",
      "2022-04-18 21:31:08.117087: I tensorflow/stream_executor/platform/default/dso_loader.cc:49] Successfully opened dynamic library libcufft.so.10\n",
      "2022-04-18 21:31:08.125240: I tensorflow/stream_executor/platform/default/dso_loader.cc:49] Successfully opened dynamic library libcurand.so.10\n",
      "2022-04-18 21:31:08.148869: I tensorflow/stream_executor/platform/default/dso_loader.cc:49] Successfully opened dynamic library libcusolver.so.10\n",
      "2022-04-18 21:31:08.156393: I tensorflow/stream_executor/platform/default/dso_loader.cc:49] Successfully opened dynamic library libcusparse.so.11\n",
      "2022-04-18 21:31:08.160373: I tensorflow/stream_executor/platform/default/dso_loader.cc:49] Successfully opened dynamic library libcudnn.so.8\n",
      "2022-04-18 21:31:08.160542: I tensorflow/stream_executor/cuda/cuda_gpu_executor.cc:941] successful NUMA node read from SysFS had negative value (-1), but there must be at least one NUMA node, so returning NUMA node zero\n",
      "2022-04-18 21:31:08.161361: I tensorflow/stream_executor/cuda/cuda_gpu_executor.cc:941] successful NUMA node read from SysFS had negative value (-1), but there must be at least one NUMA node, so returning NUMA node zero\n",
      "2022-04-18 21:31:08.163091: I tensorflow/core/common_runtime/gpu/gpu_device.cc:1862] Adding visible gpu devices: 0\n",
      "2022-04-18 21:31:08.164144: I tensorflow/core/platform/cpu_feature_guard.cc:142] This TensorFlow binary is optimized with oneAPI Deep Neural Network Library (oneDNN) to use the following CPU instructions in performance-critical operations:  AVX2 AVX512F FMA\n",
      "To enable them in other operations, rebuild TensorFlow with the appropriate compiler flags.\n",
      "2022-04-18 21:31:08.164451: I tensorflow/compiler/jit/xla_gpu_device.cc:99] Not creating XLA devices, tf_xla_enable_xla_devices not set\n",
      "2022-04-18 21:31:08.164623: I tensorflow/stream_executor/cuda/cuda_gpu_executor.cc:941] successful NUMA node read from SysFS had negative value (-1), but there must be at least one NUMA node, so returning NUMA node zero\n",
      "2022-04-18 21:31:08.165367: I tensorflow/core/common_runtime/gpu/gpu_device.cc:1720] Found device 0 with properties: \n",
      "pciBusID: 0000:00:04.0 name: Tesla P100-PCIE-16GB computeCapability: 6.0\n",
      "coreClock: 1.3285GHz coreCount: 56 deviceMemorySize: 15.90GiB deviceMemoryBandwidth: 681.88GiB/s\n",
      "2022-04-18 21:31:08.165427: I tensorflow/stream_executor/platform/default/dso_loader.cc:49] Successfully opened dynamic library libcudart.so.11.0\n",
      "2022-04-18 21:31:08.165452: I tensorflow/stream_executor/platform/default/dso_loader.cc:49] Successfully opened dynamic library libcublas.so.11\n",
      "2022-04-18 21:31:08.165469: I tensorflow/stream_executor/platform/default/dso_loader.cc:49] Successfully opened dynamic library libcublasLt.so.11\n",
      "2022-04-18 21:31:08.165485: I tensorflow/stream_executor/platform/default/dso_loader.cc:49] Successfully opened dynamic library libcufft.so.10\n",
      "2022-04-18 21:31:08.165500: I tensorflow/stream_executor/platform/default/dso_loader.cc:49] Successfully opened dynamic library libcurand.so.10\n",
      "2022-04-18 21:31:08.165516: I tensorflow/stream_executor/platform/default/dso_loader.cc:49] Successfully opened dynamic library libcusolver.so.10\n",
      "2022-04-18 21:31:08.165532: I tensorflow/stream_executor/platform/default/dso_loader.cc:49] Successfully opened dynamic library libcusparse.so.11\n",
      "2022-04-18 21:31:08.165548: I tensorflow/stream_executor/platform/default/dso_loader.cc:49] Successfully opened dynamic library libcudnn.so.8\n",
      "2022-04-18 21:31:08.165648: I tensorflow/stream_executor/cuda/cuda_gpu_executor.cc:941] successful NUMA node read from SysFS had negative value (-1), but there must be at least one NUMA node, so returning NUMA node zero\n",
      "2022-04-18 21:31:08.166413: I tensorflow/stream_executor/cuda/cuda_gpu_executor.cc:941] successful NUMA node read from SysFS had negative value (-1), but there must be at least one NUMA node, so returning NUMA node zero\n",
      "2022-04-18 21:31:08.167024: I tensorflow/core/common_runtime/gpu/gpu_device.cc:1862] Adding visible gpu devices: 0\n",
      "2022-04-18 21:31:08.167848: I tensorflow/stream_executor/platform/default/dso_loader.cc:49] Successfully opened dynamic library libcudart.so.11.0\n",
      "2022-04-18 21:31:09.554360: I tensorflow/core/common_runtime/gpu/gpu_device.cc:1261] Device interconnect StreamExecutor with strength 1 edge matrix:\n",
      "2022-04-18 21:31:09.554414: I tensorflow/core/common_runtime/gpu/gpu_device.cc:1267]      0 \n",
      "2022-04-18 21:31:09.554425: I tensorflow/core/common_runtime/gpu/gpu_device.cc:1280] 0:   N \n",
      "2022-04-18 21:31:09.556639: I tensorflow/stream_executor/cuda/cuda_gpu_executor.cc:941] successful NUMA node read from SysFS had negative value (-1), but there must be at least one NUMA node, so returning NUMA node zero\n",
      "2022-04-18 21:31:09.557493: I tensorflow/stream_executor/cuda/cuda_gpu_executor.cc:941] successful NUMA node read from SysFS had negative value (-1), but there must be at least one NUMA node, so returning NUMA node zero\n",
      "2022-04-18 21:31:09.558204: I tensorflow/stream_executor/cuda/cuda_gpu_executor.cc:941] successful NUMA node read from SysFS had negative value (-1), but there must be at least one NUMA node, so returning NUMA node zero\n",
      "2022-04-18 21:31:09.558833: I tensorflow/core/common_runtime/gpu/gpu_device.cc:1406] Created TensorFlow device (/job:localhost/replica:0/task:0/device:GPU:0 with 14957 MB memory) -> physical GPU (device: 0, name: Tesla P100-PCIE-16GB, pci bus id: 0000:00:04.0, compute capability: 6.0)\n"
     ]
    },
    {
     "name": "stdout",
     "output_type": "stream",
     "text": [
      "Model: \"sequential\"\n",
      "_________________________________________________________________\n",
      "Layer (type)                 Output Shape              Param #   \n",
      "=================================================================\n",
      "conv2d (Conv2D)              (None, 32, 32, 32)        896       \n",
      "_________________________________________________________________\n",
      "activation (Activation)      (None, 32, 32, 32)        0         \n",
      "_________________________________________________________________\n",
      "batch_normalization (BatchNo (None, 32, 32, 32)        128       \n",
      "_________________________________________________________________\n",
      "conv2d_1 (Conv2D)            (None, 32, 32, 32)        9248      \n",
      "_________________________________________________________________\n",
      "activation_1 (Activation)    (None, 32, 32, 32)        0         \n",
      "_________________________________________________________________\n",
      "batch_normalization_1 (Batch (None, 32, 32, 32)        128       \n",
      "_________________________________________________________________\n",
      "max_pooling2d (MaxPooling2D) (None, 16, 16, 32)        0         \n",
      "_________________________________________________________________\n",
      "dropout (Dropout)            (None, 16, 16, 32)        0         \n",
      "_________________________________________________________________\n",
      "conv2d_2 (Conv2D)            (None, 16, 16, 64)        18496     \n",
      "_________________________________________________________________\n",
      "activation_2 (Activation)    (None, 16, 16, 64)        0         \n",
      "_________________________________________________________________\n",
      "batch_normalization_2 (Batch (None, 16, 16, 64)        256       \n",
      "_________________________________________________________________\n",
      "dropout_1 (Dropout)          (None, 16, 16, 64)        0         \n",
      "_________________________________________________________________\n",
      "conv2d_3 (Conv2D)            (None, 16, 16, 64)        36928     \n",
      "_________________________________________________________________\n",
      "activation_3 (Activation)    (None, 16, 16, 64)        0         \n",
      "_________________________________________________________________\n",
      "batch_normalization_3 (Batch (None, 16, 16, 64)        256       \n",
      "_________________________________________________________________\n",
      "max_pooling2d_1 (MaxPooling2 (None, 8, 8, 64)          0         \n",
      "_________________________________________________________________\n",
      "dropout_2 (Dropout)          (None, 8, 8, 64)          0         \n",
      "_________________________________________________________________\n",
      "conv2d_4 (Conv2D)            (None, 8, 8, 128)         73856     \n",
      "_________________________________________________________________\n",
      "activation_4 (Activation)    (None, 8, 8, 128)         0         \n",
      "_________________________________________________________________\n",
      "batch_normalization_4 (Batch (None, 8, 8, 128)         512       \n",
      "_________________________________________________________________\n",
      "conv2d_5 (Conv2D)            (None, 8, 8, 128)         147584    \n",
      "_________________________________________________________________\n",
      "activation_5 (Activation)    (None, 8, 8, 128)         0         \n",
      "_________________________________________________________________\n",
      "batch_normalization_5 (Batch (None, 8, 8, 128)         512       \n",
      "_________________________________________________________________\n",
      "max_pooling2d_2 (MaxPooling2 (None, 4, 4, 128)         0         \n",
      "_________________________________________________________________\n",
      "dropout_3 (Dropout)          (None, 4, 4, 128)         0         \n",
      "_________________________________________________________________\n",
      "flatten (Flatten)            (None, 2048)              0         \n",
      "_________________________________________________________________\n",
      "dense (Dense)                (None, 10)                20490     \n",
      "=================================================================\n",
      "Total params: 309,290\n",
      "Trainable params: 308,394\n",
      "Non-trainable params: 896\n",
      "_________________________________________________________________\n"
     ]
    }
   ],
   "source": [
    "model = Sequential()\n",
    "## conv 1\n",
    "model.add(Conv2D(base_filtros, (3,3), padding='same', kernel_regularizer=regularizers.l2(w_regulatizer), input_shape=x_train.shape[1:]))\n",
    "model.add(Activation('relu'))\n",
    "model.add(BatchNormalization())\n",
    "\n",
    "## conv 2\n",
    "model.add(Conv2D(base_filtros, (3,3), padding='same', kernel_regularizer=regularizers.l2(w_regulatizer)))\n",
    "model.add(Activation('relu'))\n",
    "model.add(BatchNormalization())\n",
    "model.add(MaxPooling2D(pool_size=(2,2)))\n",
    "model.add(Dropout(0.2))\n",
    "\n",
    "## conv 3\n",
    "model.add(Conv2D(2*base_filtros, (3,3), padding='same', kernel_regularizer=regularizers.l2(w_regulatizer)))\n",
    "model.add(Activation('relu'))\n",
    "model.add(BatchNormalization())\n",
    "model.add(Dropout(0.2))\n",
    "\n",
    "## conv 4\n",
    "model.add(Conv2D(2*base_filtros, (3,3), padding='same', kernel_regularizer=regularizers.l2(w_regulatizer)))\n",
    "model.add(Activation('relu'))\n",
    "model.add(BatchNormalization())\n",
    "model.add(MaxPooling2D(pool_size=(2,2)))\n",
    "model.add(Dropout(0.3))\n",
    "\n",
    "## conv 5\n",
    "model.add(Conv2D(4*base_filtros, (3,3), padding='same', kernel_regularizer=regularizers.l2(w_regulatizer)))\n",
    "model.add(Activation('relu'))\n",
    "model.add(BatchNormalization())\n",
    "\n",
    "\n",
    "## conv 6\n",
    "model.add(Conv2D(4*base_filtros, (3,3), padding='same', kernel_regularizer=regularizers.l2(w_regulatizer)))\n",
    "model.add(Activation('relu'))\n",
    "model.add(BatchNormalization())\n",
    "model.add(MaxPooling2D(pool_size=(2,2)))\n",
    "model.add(Dropout(0.4))\n",
    "\n",
    "## Clasificacion - Flatten\n",
    "\n",
    "model.add(Flatten())\n",
    "model.add(Dense(num_clases,activation='softmax'))\n",
    "\n",
    "model.summary()\n",
    "\n"
   ]
  },
  {
   "cell_type": "markdown",
   "id": "90f263f6",
   "metadata": {
    "papermill": {
     "duration": 0.048923,
     "end_time": "2022-04-18T21:31:10.164407",
     "exception": false,
     "start_time": "2022-04-18T21:31:10.115484",
     "status": "completed"
    },
    "tags": []
   },
   "source": [
    "## Data augmentation"
   ]
  },
  {
   "cell_type": "code",
   "execution_count": 14,
   "id": "a76176af",
   "metadata": {
    "execution": {
     "iopub.execute_input": "2022-04-18T21:31:10.268448Z",
     "iopub.status.busy": "2022-04-18T21:31:10.267587Z",
     "iopub.status.idle": "2022-04-18T21:31:10.270028Z",
     "shell.execute_reply": "2022-04-18T21:31:10.269592Z"
    },
    "papermill": {
     "duration": 0.056361,
     "end_time": "2022-04-18T21:31:10.270137",
     "exception": false,
     "start_time": "2022-04-18T21:31:10.213776",
     "status": "completed"
    },
    "tags": []
   },
   "outputs": [],
   "source": [
    "datagen = ImageDataGenerator(rotation_range=15,\n",
    "                  width_shift_range=0.1,\n",
    "                  height_shift_range=0.1,\n",
    "                  horizontal_flip=True,\n",
    "                  vertical_flip=True)"
   ]
  },
  {
   "cell_type": "markdown",
   "id": "7c9930f0",
   "metadata": {
    "papermill": {
     "duration": 0.049002,
     "end_time": "2022-04-18T21:31:10.368092",
     "exception": false,
     "start_time": "2022-04-18T21:31:10.319090",
     "status": "completed"
    },
    "tags": []
   },
   "source": [
    "## Compilando"
   ]
  },
  {
   "cell_type": "code",
   "execution_count": 15,
   "id": "a1e365e4",
   "metadata": {
    "execution": {
     "iopub.execute_input": "2022-04-18T21:31:10.472705Z",
     "iopub.status.busy": "2022-04-18T21:31:10.471868Z",
     "iopub.status.idle": "2022-04-18T21:31:10.474298Z",
     "shell.execute_reply": "2022-04-18T21:31:10.474841Z"
    },
    "papermill": {
     "duration": 0.05782,
     "end_time": "2022-04-18T21:31:10.474979",
     "exception": false,
     "start_time": "2022-04-18T21:31:10.417159",
     "status": "completed"
    },
    "tags": []
   },
   "outputs": [],
   "source": [
    "from tensorflow.keras import optimizers"
   ]
  },
  {
   "cell_type": "code",
   "execution_count": 16,
   "id": "feda0115",
   "metadata": {
    "execution": {
     "iopub.execute_input": "2022-04-18T21:31:10.585726Z",
     "iopub.status.busy": "2022-04-18T21:31:10.577986Z",
     "iopub.status.idle": "2022-04-18T21:31:10.591707Z",
     "shell.execute_reply": "2022-04-18T21:31:10.591284Z"
    },
    "papermill": {
     "duration": 0.067128,
     "end_time": "2022-04-18T21:31:10.591815",
     "exception": false,
     "start_time": "2022-04-18T21:31:10.524687",
     "status": "completed"
    },
    "tags": []
   },
   "outputs": [],
   "source": [
    "model.compile(loss='categorical_crossentropy', optimizer=optimizers.Adam(),\n",
    "             metrics=['accuracy'])"
   ]
  },
  {
   "cell_type": "code",
   "execution_count": 17,
   "id": "28d3fe6b",
   "metadata": {
    "execution": {
     "iopub.execute_input": "2022-04-18T21:31:10.695988Z",
     "iopub.status.busy": "2022-04-18T21:31:10.695204Z",
     "iopub.status.idle": "2022-04-18T21:31:10.697129Z",
     "shell.execute_reply": "2022-04-18T21:31:10.697516Z"
    },
    "papermill": {
     "duration": 0.055829,
     "end_time": "2022-04-18T21:31:10.697639",
     "exception": false,
     "start_time": "2022-04-18T21:31:10.641810",
     "status": "completed"
    },
    "tags": []
   },
   "outputs": [],
   "source": [
    "#hist = model.fit(x_train, y_train, batch_size=32,epochs=100,\n",
    "#                validation_data=(x_valid, y_valid),\n",
    "#                verbose=2, shuffle=True)"
   ]
  },
  {
   "cell_type": "markdown",
   "id": "e73b3e79",
   "metadata": {
    "papermill": {
     "duration": 0.047855,
     "end_time": "2022-04-18T21:31:10.795283",
     "exception": false,
     "start_time": "2022-04-18T21:31:10.747428",
     "status": "completed"
    },
    "tags": []
   },
   "source": [
    "## Callbacks"
   ]
  },
  {
   "cell_type": "code",
   "execution_count": 18,
   "id": "7979e219",
   "metadata": {
    "execution": {
     "iopub.execute_input": "2022-04-18T21:31:10.907638Z",
     "iopub.status.busy": "2022-04-18T21:31:10.906829Z",
     "iopub.status.idle": "2022-04-18T21:31:10.909090Z",
     "shell.execute_reply": "2022-04-18T21:31:10.909555Z"
    },
    "papermill": {
     "duration": 0.062855,
     "end_time": "2022-04-18T21:31:10.909679",
     "exception": false,
     "start_time": "2022-04-18T21:31:10.846824",
     "status": "completed"
    },
    "tags": []
   },
   "outputs": [],
   "source": [
    "chekcpoint = ModelCheckpoint('mi_mejor_modelo.hdf5',verbose=1,save_best_only=True, monitor = 'val_accuracy')"
   ]
  },
  {
   "cell_type": "markdown",
   "id": "eb4460de",
   "metadata": {
    "papermill": {
     "duration": 0.049751,
     "end_time": "2022-04-18T21:31:11.008369",
     "exception": false,
     "start_time": "2022-04-18T21:31:10.958618",
     "status": "completed"
    },
    "tags": []
   },
   "source": [
    "## Entrenando nuestro modelo"
   ]
  },
  {
   "cell_type": "code",
   "execution_count": 19,
   "id": "8049c911",
   "metadata": {
    "execution": {
     "iopub.execute_input": "2022-04-18T21:31:11.113590Z",
     "iopub.status.busy": "2022-04-18T21:31:11.112910Z",
     "iopub.status.idle": "2022-04-18T22:14:15.675864Z",
     "shell.execute_reply": "2022-04-18T22:14:15.676460Z"
    },
    "papermill": {
     "duration": 2584.61818,
     "end_time": "2022-04-18T22:14:15.676667",
     "exception": false,
     "start_time": "2022-04-18T21:31:11.058487",
     "status": "completed"
    },
    "tags": []
   },
   "outputs": [
    {
     "name": "stderr",
     "output_type": "stream",
     "text": [
      "2022-04-18 21:31:11.241099: I tensorflow/compiler/mlir/mlir_graph_optimization_pass.cc:116] None of the MLIR optimization passes are enabled (registered 2)\n",
      "2022-04-18 21:31:11.244969: I tensorflow/core/platform/profile_utils/cpu_utils.cc:112] CPU Frequency: 2000140000 Hz\n"
     ]
    },
    {
     "name": "stdout",
     "output_type": "stream",
     "text": [
      "Epoch 1/120\n"
     ]
    },
    {
     "name": "stderr",
     "output_type": "stream",
     "text": [
      "2022-04-18 21:31:12.318513: I tensorflow/stream_executor/platform/default/dso_loader.cc:49] Successfully opened dynamic library libcublas.so.11\n",
      "2022-04-18 21:31:13.187392: I tensorflow/stream_executor/platform/default/dso_loader.cc:49] Successfully opened dynamic library libcublasLt.so.11\n",
      "2022-04-18 21:31:13.210527: I tensorflow/stream_executor/platform/default/dso_loader.cc:49] Successfully opened dynamic library libcudnn.so.8\n"
     ]
    },
    {
     "name": "stdout",
     "output_type": "stream",
     "text": [
      "351/351 - 32s - loss: 2.2491 - accuracy: 0.3215 - val_loss: 2.1307 - val_accuracy: 0.2942\n",
      "\n",
      "Epoch 00001: val_accuracy improved from -inf to 0.29420, saving model to mi_mejor_modelo.hdf5\n",
      "Epoch 2/120\n",
      "351/351 - 23s - loss: 1.7164 - accuracy: 0.4319 - val_loss: 1.7246 - val_accuracy: 0.4414\n",
      "\n",
      "Epoch 00002: val_accuracy improved from 0.29420 to 0.44140, saving model to mi_mejor_modelo.hdf5\n",
      "Epoch 3/120\n",
      "351/351 - 24s - loss: 1.5042 - accuracy: 0.4972 - val_loss: 1.5014 - val_accuracy: 0.5152\n",
      "\n",
      "Epoch 00003: val_accuracy improved from 0.44140 to 0.51520, saving model to mi_mejor_modelo.hdf5\n",
      "Epoch 4/120\n",
      "351/351 - 23s - loss: 1.3736 - accuracy: 0.5440 - val_loss: 1.2943 - val_accuracy: 0.5680\n",
      "\n",
      "Epoch 00004: val_accuracy improved from 0.51520 to 0.56800, saving model to mi_mejor_modelo.hdf5\n",
      "Epoch 5/120\n",
      "351/351 - 23s - loss: 1.2777 - accuracy: 0.5694 - val_loss: 1.1595 - val_accuracy: 0.6242\n",
      "\n",
      "Epoch 00005: val_accuracy improved from 0.56800 to 0.62420, saving model to mi_mejor_modelo.hdf5\n",
      "Epoch 6/120\n",
      "351/351 - 22s - loss: 1.1841 - accuracy: 0.5983 - val_loss: 1.2476 - val_accuracy: 0.5946\n",
      "\n",
      "Epoch 00006: val_accuracy did not improve from 0.62420\n",
      "Epoch 7/120\n",
      "351/351 - 22s - loss: 1.1301 - accuracy: 0.6191 - val_loss: 1.0527 - val_accuracy: 0.6638\n",
      "\n",
      "Epoch 00007: val_accuracy improved from 0.62420 to 0.66380, saving model to mi_mejor_modelo.hdf5\n",
      "Epoch 8/120\n",
      "351/351 - 22s - loss: 1.0683 - accuracy: 0.6405 - val_loss: 1.0294 - val_accuracy: 0.6664\n",
      "\n",
      "Epoch 00008: val_accuracy improved from 0.66380 to 0.66640, saving model to mi_mejor_modelo.hdf5\n",
      "Epoch 9/120\n",
      "351/351 - 22s - loss: 1.0368 - accuracy: 0.6511 - val_loss: 1.1836 - val_accuracy: 0.6316\n",
      "\n",
      "Epoch 00009: val_accuracy did not improve from 0.66640\n",
      "Epoch 10/120\n",
      "351/351 - 22s - loss: 1.0081 - accuracy: 0.6642 - val_loss: 0.9291 - val_accuracy: 0.6932\n",
      "\n",
      "Epoch 00010: val_accuracy improved from 0.66640 to 0.69320, saving model to mi_mejor_modelo.hdf5\n",
      "Epoch 11/120\n",
      "351/351 - 22s - loss: 0.9738 - accuracy: 0.6800 - val_loss: 1.0088 - val_accuracy: 0.6794\n",
      "\n",
      "Epoch 00011: val_accuracy did not improve from 0.69320\n",
      "Epoch 12/120\n",
      "351/351 - 22s - loss: 0.9519 - accuracy: 0.6872 - val_loss: 1.0007 - val_accuracy: 0.6840\n",
      "\n",
      "Epoch 00012: val_accuracy did not improve from 0.69320\n",
      "Epoch 13/120\n",
      "351/351 - 22s - loss: 0.9272 - accuracy: 0.6964 - val_loss: 0.9163 - val_accuracy: 0.7154\n",
      "\n",
      "Epoch 00013: val_accuracy improved from 0.69320 to 0.71540, saving model to mi_mejor_modelo.hdf5\n",
      "Epoch 14/120\n",
      "351/351 - 22s - loss: 0.9127 - accuracy: 0.7029 - val_loss: 0.9829 - val_accuracy: 0.6966\n",
      "\n",
      "Epoch 00014: val_accuracy did not improve from 0.71540\n",
      "Epoch 15/120\n",
      "351/351 - 22s - loss: 0.8994 - accuracy: 0.7096 - val_loss: 0.9289 - val_accuracy: 0.7138\n",
      "\n",
      "Epoch 00015: val_accuracy did not improve from 0.71540\n",
      "Epoch 16/120\n",
      "351/351 - 22s - loss: 0.8843 - accuracy: 0.7169 - val_loss: 0.9965 - val_accuracy: 0.7012\n",
      "\n",
      "Epoch 00016: val_accuracy did not improve from 0.71540\n",
      "Epoch 17/120\n",
      "351/351 - 22s - loss: 0.8722 - accuracy: 0.7204 - val_loss: 0.8513 - val_accuracy: 0.7434\n",
      "\n",
      "Epoch 00017: val_accuracy improved from 0.71540 to 0.74340, saving model to mi_mejor_modelo.hdf5\n",
      "Epoch 18/120\n",
      "351/351 - 22s - loss: 0.8648 - accuracy: 0.7252 - val_loss: 0.8212 - val_accuracy: 0.7548\n",
      "\n",
      "Epoch 00018: val_accuracy improved from 0.74340 to 0.75480, saving model to mi_mejor_modelo.hdf5\n",
      "Epoch 19/120\n",
      "351/351 - 21s - loss: 0.8503 - accuracy: 0.7319 - val_loss: 0.8866 - val_accuracy: 0.7260\n",
      "\n",
      "Epoch 00019: val_accuracy did not improve from 0.75480\n",
      "Epoch 20/120\n",
      "351/351 - 22s - loss: 0.8487 - accuracy: 0.7351 - val_loss: 0.7463 - val_accuracy: 0.7744\n",
      "\n",
      "Epoch 00020: val_accuracy improved from 0.75480 to 0.77440, saving model to mi_mejor_modelo.hdf5\n",
      "Epoch 21/120\n",
      "351/351 - 22s - loss: 0.8362 - accuracy: 0.7395 - val_loss: 0.7603 - val_accuracy: 0.7730\n",
      "\n",
      "Epoch 00021: val_accuracy did not improve from 0.77440\n",
      "Epoch 22/120\n",
      "351/351 - 21s - loss: 0.8361 - accuracy: 0.7392 - val_loss: 0.7666 - val_accuracy: 0.7720\n",
      "\n",
      "Epoch 00022: val_accuracy did not improve from 0.77440\n",
      "Epoch 23/120\n",
      "351/351 - 22s - loss: 0.8280 - accuracy: 0.7427 - val_loss: 0.8040 - val_accuracy: 0.7594\n",
      "\n",
      "Epoch 00023: val_accuracy did not improve from 0.77440\n",
      "Epoch 24/120\n",
      "351/351 - 22s - loss: 0.8157 - accuracy: 0.7513 - val_loss: 0.8315 - val_accuracy: 0.7528\n",
      "\n",
      "Epoch 00024: val_accuracy did not improve from 0.77440\n",
      "Epoch 25/120\n",
      "351/351 - 21s - loss: 0.8126 - accuracy: 0.7510 - val_loss: 0.7367 - val_accuracy: 0.7868\n",
      "\n",
      "Epoch 00025: val_accuracy improved from 0.77440 to 0.78680, saving model to mi_mejor_modelo.hdf5\n",
      "Epoch 26/120\n",
      "351/351 - 22s - loss: 0.8102 - accuracy: 0.7541 - val_loss: 0.8246 - val_accuracy: 0.7578\n",
      "\n",
      "Epoch 00026: val_accuracy did not improve from 0.78680\n",
      "Epoch 27/120\n",
      "351/351 - 22s - loss: 0.8072 - accuracy: 0.7565 - val_loss: 0.7956 - val_accuracy: 0.7658\n",
      "\n",
      "Epoch 00027: val_accuracy did not improve from 0.78680\n",
      "Epoch 28/120\n",
      "351/351 - 21s - loss: 0.8000 - accuracy: 0.7565 - val_loss: 0.7992 - val_accuracy: 0.7664\n",
      "\n",
      "Epoch 00028: val_accuracy did not improve from 0.78680\n",
      "Epoch 29/120\n",
      "351/351 - 22s - loss: 0.7894 - accuracy: 0.7613 - val_loss: 0.7322 - val_accuracy: 0.7864\n",
      "\n",
      "Epoch 00029: val_accuracy did not improve from 0.78680\n",
      "Epoch 30/120\n",
      "351/351 - 22s - loss: 0.7868 - accuracy: 0.7636 - val_loss: 0.7290 - val_accuracy: 0.7892\n",
      "\n",
      "Epoch 00030: val_accuracy improved from 0.78680 to 0.78920, saving model to mi_mejor_modelo.hdf5\n",
      "Epoch 31/120\n",
      "351/351 - 21s - loss: 0.7855 - accuracy: 0.7644 - val_loss: 0.7280 - val_accuracy: 0.7908\n",
      "\n",
      "Epoch 00031: val_accuracy improved from 0.78920 to 0.79080, saving model to mi_mejor_modelo.hdf5\n",
      "Epoch 32/120\n",
      "351/351 - 22s - loss: 0.7828 - accuracy: 0.7671 - val_loss: 0.7543 - val_accuracy: 0.7840\n",
      "\n",
      "Epoch 00032: val_accuracy did not improve from 0.79080\n",
      "Epoch 33/120\n",
      "351/351 - 21s - loss: 0.7819 - accuracy: 0.7686 - val_loss: 0.7573 - val_accuracy: 0.7870\n",
      "\n",
      "Epoch 00033: val_accuracy did not improve from 0.79080\n",
      "Epoch 34/120\n",
      "351/351 - 22s - loss: 0.7800 - accuracy: 0.7674 - val_loss: 0.7465 - val_accuracy: 0.7880\n",
      "\n",
      "Epoch 00034: val_accuracy did not improve from 0.79080\n",
      "Epoch 35/120\n",
      "351/351 - 22s - loss: 0.7734 - accuracy: 0.7713 - val_loss: 0.8304 - val_accuracy: 0.7686\n",
      "\n",
      "Epoch 00035: val_accuracy did not improve from 0.79080\n",
      "Epoch 36/120\n",
      "351/351 - 21s - loss: 0.7692 - accuracy: 0.7728 - val_loss: 0.7534 - val_accuracy: 0.7878\n",
      "\n",
      "Epoch 00036: val_accuracy did not improve from 0.79080\n",
      "Epoch 37/120\n",
      "351/351 - 22s - loss: 0.7664 - accuracy: 0.7747 - val_loss: 0.7444 - val_accuracy: 0.7902\n",
      "\n",
      "Epoch 00037: val_accuracy did not improve from 0.79080\n",
      "Epoch 38/120\n",
      "351/351 - 22s - loss: 0.7697 - accuracy: 0.7709 - val_loss: 0.7072 - val_accuracy: 0.7958\n",
      "\n",
      "Epoch 00038: val_accuracy improved from 0.79080 to 0.79580, saving model to mi_mejor_modelo.hdf5\n",
      "Epoch 39/120\n",
      "351/351 - 21s - loss: 0.7740 - accuracy: 0.7719 - val_loss: 0.8085 - val_accuracy: 0.7712\n",
      "\n",
      "Epoch 00039: val_accuracy did not improve from 0.79580\n",
      "Epoch 40/120\n",
      "351/351 - 22s - loss: 0.7620 - accuracy: 0.7766 - val_loss: 0.7031 - val_accuracy: 0.8046\n",
      "\n",
      "Epoch 00040: val_accuracy improved from 0.79580 to 0.80460, saving model to mi_mejor_modelo.hdf5\n",
      "Epoch 41/120\n",
      "351/351 - 22s - loss: 0.7633 - accuracy: 0.7766 - val_loss: 0.7432 - val_accuracy: 0.7910\n",
      "\n",
      "Epoch 00041: val_accuracy did not improve from 0.80460\n",
      "Epoch 42/120\n",
      "351/351 - 22s - loss: 0.7611 - accuracy: 0.7789 - val_loss: 0.7559 - val_accuracy: 0.7886\n",
      "\n",
      "Epoch 00042: val_accuracy did not improve from 0.80460\n",
      "Epoch 43/120\n",
      "351/351 - 22s - loss: 0.7547 - accuracy: 0.7787 - val_loss: 0.7344 - val_accuracy: 0.7950\n",
      "\n",
      "Epoch 00043: val_accuracy did not improve from 0.80460\n",
      "Epoch 44/120\n",
      "351/351 - 22s - loss: 0.7609 - accuracy: 0.7798 - val_loss: 0.6836 - val_accuracy: 0.8112\n",
      "\n",
      "Epoch 00044: val_accuracy improved from 0.80460 to 0.81120, saving model to mi_mejor_modelo.hdf5\n",
      "Epoch 45/120\n",
      "351/351 - 21s - loss: 0.7511 - accuracy: 0.7810 - val_loss: 0.7014 - val_accuracy: 0.8082\n",
      "\n",
      "Epoch 00045: val_accuracy did not improve from 0.81120\n",
      "Epoch 46/120\n",
      "351/351 - 22s - loss: 0.7524 - accuracy: 0.7815 - val_loss: 0.6928 - val_accuracy: 0.8068\n",
      "\n",
      "Epoch 00046: val_accuracy did not improve from 0.81120\n",
      "Epoch 47/120\n",
      "351/351 - 21s - loss: 0.7551 - accuracy: 0.7792 - val_loss: 0.8034 - val_accuracy: 0.7772\n",
      "\n",
      "Epoch 00047: val_accuracy did not improve from 0.81120\n",
      "Epoch 48/120\n",
      "351/351 - 21s - loss: 0.7451 - accuracy: 0.7865 - val_loss: 0.8849 - val_accuracy: 0.7644\n",
      "\n",
      "Epoch 00048: val_accuracy did not improve from 0.81120\n",
      "Epoch 49/120\n",
      "351/351 - 21s - loss: 0.7459 - accuracy: 0.7849 - val_loss: 0.7722 - val_accuracy: 0.7828\n",
      "\n",
      "Epoch 00049: val_accuracy did not improve from 0.81120\n",
      "Epoch 50/120\n",
      "351/351 - 21s - loss: 0.7478 - accuracy: 0.7845 - val_loss: 0.6843 - val_accuracy: 0.8116\n",
      "\n",
      "Epoch 00050: val_accuracy improved from 0.81120 to 0.81160, saving model to mi_mejor_modelo.hdf5\n",
      "Epoch 51/120\n",
      "351/351 - 21s - loss: 0.7440 - accuracy: 0.7867 - val_loss: 0.6420 - val_accuracy: 0.8254\n",
      "\n",
      "Epoch 00051: val_accuracy improved from 0.81160 to 0.82540, saving model to mi_mejor_modelo.hdf5\n",
      "Epoch 52/120\n",
      "351/351 - 21s - loss: 0.7389 - accuracy: 0.7876 - val_loss: 0.6788 - val_accuracy: 0.8192\n",
      "\n",
      "Epoch 00052: val_accuracy did not improve from 0.82540\n",
      "Epoch 53/120\n",
      "351/351 - 21s - loss: 0.7395 - accuracy: 0.7858 - val_loss: 0.6812 - val_accuracy: 0.8160\n",
      "\n",
      "Epoch 00053: val_accuracy did not improve from 0.82540\n",
      "Epoch 54/120\n",
      "351/351 - 22s - loss: 0.7391 - accuracy: 0.7848 - val_loss: 0.6705 - val_accuracy: 0.8174\n",
      "\n",
      "Epoch 00054: val_accuracy did not improve from 0.82540\n",
      "Epoch 55/120\n",
      "351/351 - 21s - loss: 0.7391 - accuracy: 0.7879 - val_loss: 0.8295 - val_accuracy: 0.7754\n",
      "\n",
      "Epoch 00055: val_accuracy did not improve from 0.82540\n",
      "Epoch 56/120\n",
      "351/351 - 21s - loss: 0.7358 - accuracy: 0.7909 - val_loss: 0.7851 - val_accuracy: 0.7888\n",
      "\n",
      "Epoch 00056: val_accuracy did not improve from 0.82540\n",
      "Epoch 57/120\n",
      "351/351 - 21s - loss: 0.7376 - accuracy: 0.7879 - val_loss: 0.6984 - val_accuracy: 0.8050\n",
      "\n",
      "Epoch 00057: val_accuracy did not improve from 0.82540\n",
      "Epoch 58/120\n",
      "351/351 - 21s - loss: 0.7326 - accuracy: 0.7919 - val_loss: 0.7271 - val_accuracy: 0.7996\n",
      "\n",
      "Epoch 00058: val_accuracy did not improve from 0.82540\n",
      "Epoch 59/120\n",
      "351/351 - 21s - loss: 0.7348 - accuracy: 0.7911 - val_loss: 0.6833 - val_accuracy: 0.8134\n",
      "\n",
      "Epoch 00059: val_accuracy did not improve from 0.82540\n",
      "Epoch 60/120\n",
      "351/351 - 21s - loss: 0.7325 - accuracy: 0.7926 - val_loss: 0.7391 - val_accuracy: 0.7996\n",
      "\n",
      "Epoch 00060: val_accuracy did not improve from 0.82540\n",
      "Epoch 61/120\n",
      "351/351 - 21s - loss: 0.7297 - accuracy: 0.7938 - val_loss: 0.6995 - val_accuracy: 0.8096\n",
      "\n",
      "Epoch 00061: val_accuracy did not improve from 0.82540\n",
      "Epoch 62/120\n",
      "351/351 - 21s - loss: 0.7287 - accuracy: 0.7918 - val_loss: 0.7023 - val_accuracy: 0.8122\n",
      "\n",
      "Epoch 00062: val_accuracy did not improve from 0.82540\n",
      "Epoch 63/120\n",
      "351/351 - 21s - loss: 0.7295 - accuracy: 0.7925 - val_loss: 0.8140 - val_accuracy: 0.7740\n",
      "\n",
      "Epoch 00063: val_accuracy did not improve from 0.82540\n",
      "Epoch 64/120\n",
      "351/351 - 21s - loss: 0.7295 - accuracy: 0.7936 - val_loss: 0.6591 - val_accuracy: 0.8228\n",
      "\n",
      "Epoch 00064: val_accuracy did not improve from 0.82540\n",
      "Epoch 65/120\n",
      "351/351 - 20s - loss: 0.7229 - accuracy: 0.7947 - val_loss: 0.7068 - val_accuracy: 0.8060\n",
      "\n",
      "Epoch 00065: val_accuracy did not improve from 0.82540\n",
      "Epoch 66/120\n",
      "351/351 - 22s - loss: 0.7210 - accuracy: 0.7959 - val_loss: 0.6899 - val_accuracy: 0.8188\n",
      "\n",
      "Epoch 00066: val_accuracy did not improve from 0.82540\n",
      "Epoch 67/120\n",
      "351/351 - 21s - loss: 0.7254 - accuracy: 0.7956 - val_loss: 0.8197 - val_accuracy: 0.7830\n",
      "\n",
      "Epoch 00067: val_accuracy did not improve from 0.82540\n",
      "Epoch 68/120\n",
      "351/351 - 21s - loss: 0.7227 - accuracy: 0.7961 - val_loss: 0.6321 - val_accuracy: 0.8314\n",
      "\n",
      "Epoch 00068: val_accuracy improved from 0.82540 to 0.83140, saving model to mi_mejor_modelo.hdf5\n",
      "Epoch 69/120\n",
      "351/351 - 21s - loss: 0.7248 - accuracy: 0.7941 - val_loss: 0.8053 - val_accuracy: 0.7792\n",
      "\n",
      "Epoch 00069: val_accuracy did not improve from 0.83140\n",
      "Epoch 70/120\n",
      "351/351 - 21s - loss: 0.7190 - accuracy: 0.7962 - val_loss: 0.6738 - val_accuracy: 0.8162\n",
      "\n",
      "Epoch 00070: val_accuracy did not improve from 0.83140\n",
      "Epoch 71/120\n",
      "351/351 - 21s - loss: 0.7198 - accuracy: 0.7969 - val_loss: 0.7078 - val_accuracy: 0.8098\n",
      "\n",
      "Epoch 00071: val_accuracy did not improve from 0.83140\n",
      "Epoch 72/120\n",
      "351/351 - 21s - loss: 0.7172 - accuracy: 0.7981 - val_loss: 0.6546 - val_accuracy: 0.8258\n",
      "\n",
      "Epoch 00072: val_accuracy did not improve from 0.83140\n",
      "Epoch 73/120\n",
      "351/351 - 21s - loss: 0.7176 - accuracy: 0.7952 - val_loss: 0.7387 - val_accuracy: 0.7988\n",
      "\n",
      "Epoch 00073: val_accuracy did not improve from 0.83140\n",
      "Epoch 74/120\n",
      "351/351 - 21s - loss: 0.7195 - accuracy: 0.7989 - val_loss: 0.6571 - val_accuracy: 0.8286\n",
      "\n",
      "Epoch 00074: val_accuracy did not improve from 0.83140\n",
      "Epoch 75/120\n",
      "351/351 - 21s - loss: 0.7156 - accuracy: 0.8008 - val_loss: 0.7369 - val_accuracy: 0.8052\n",
      "\n",
      "Epoch 00075: val_accuracy did not improve from 0.83140\n",
      "Epoch 76/120\n",
      "351/351 - 21s - loss: 0.7149 - accuracy: 0.8009 - val_loss: 0.6698 - val_accuracy: 0.8266\n",
      "\n",
      "Epoch 00076: val_accuracy did not improve from 0.83140\n",
      "Epoch 77/120\n",
      "351/351 - 21s - loss: 0.7113 - accuracy: 0.8001 - val_loss: 0.6864 - val_accuracy: 0.8166\n",
      "\n",
      "Epoch 00077: val_accuracy did not improve from 0.83140\n",
      "Epoch 78/120\n",
      "351/351 - 21s - loss: 0.7130 - accuracy: 0.8007 - val_loss: 0.6353 - val_accuracy: 0.8304\n",
      "\n",
      "Epoch 00078: val_accuracy did not improve from 0.83140\n",
      "Epoch 79/120\n",
      "351/351 - 22s - loss: 0.7147 - accuracy: 0.7989 - val_loss: 0.6473 - val_accuracy: 0.8252\n",
      "\n",
      "Epoch 00079: val_accuracy did not improve from 0.83140\n",
      "Epoch 80/120\n",
      "351/351 - 22s - loss: 0.7093 - accuracy: 0.7994 - val_loss: 0.6755 - val_accuracy: 0.8216\n",
      "\n",
      "Epoch 00080: val_accuracy did not improve from 0.83140\n",
      "Epoch 81/120\n",
      "351/351 - 21s - loss: 0.7143 - accuracy: 0.8013 - val_loss: 0.6286 - val_accuracy: 0.8356\n",
      "\n",
      "Epoch 00081: val_accuracy improved from 0.83140 to 0.83560, saving model to mi_mejor_modelo.hdf5\n",
      "Epoch 82/120\n",
      "351/351 - 22s - loss: 0.7076 - accuracy: 0.8054 - val_loss: 0.6693 - val_accuracy: 0.8220\n",
      "\n",
      "Epoch 00082: val_accuracy did not improve from 0.83560\n",
      "Epoch 83/120\n",
      "351/351 - 21s - loss: 0.7109 - accuracy: 0.8035 - val_loss: 0.7047 - val_accuracy: 0.8144\n",
      "\n",
      "Epoch 00083: val_accuracy did not improve from 0.83560\n",
      "Epoch 84/120\n",
      "351/351 - 21s - loss: 0.7084 - accuracy: 0.8034 - val_loss: 0.6474 - val_accuracy: 0.8314\n",
      "\n",
      "Epoch 00084: val_accuracy did not improve from 0.83560\n",
      "Epoch 85/120\n",
      "351/351 - 21s - loss: 0.7097 - accuracy: 0.8018 - val_loss: 0.6334 - val_accuracy: 0.8326\n",
      "\n",
      "Epoch 00085: val_accuracy did not improve from 0.83560\n",
      "Epoch 86/120\n",
      "351/351 - 21s - loss: 0.7064 - accuracy: 0.8038 - val_loss: 0.7061 - val_accuracy: 0.8074\n",
      "\n",
      "Epoch 00086: val_accuracy did not improve from 0.83560\n",
      "Epoch 87/120\n",
      "351/351 - 21s - loss: 0.7075 - accuracy: 0.8034 - val_loss: 0.7066 - val_accuracy: 0.8092\n",
      "\n",
      "Epoch 00087: val_accuracy did not improve from 0.83560\n",
      "Epoch 88/120\n",
      "351/351 - 22s - loss: 0.7136 - accuracy: 0.8015 - val_loss: 0.7099 - val_accuracy: 0.8106\n",
      "\n",
      "Epoch 00088: val_accuracy did not improve from 0.83560\n",
      "Epoch 89/120\n",
      "351/351 - 21s - loss: 0.7084 - accuracy: 0.8020 - val_loss: 0.6651 - val_accuracy: 0.8232\n",
      "\n",
      "Epoch 00089: val_accuracy did not improve from 0.83560\n",
      "Epoch 90/120\n",
      "351/351 - 21s - loss: 0.7108 - accuracy: 0.7995 - val_loss: 0.6841 - val_accuracy: 0.8152\n",
      "\n",
      "Epoch 00090: val_accuracy did not improve from 0.83560\n",
      "Epoch 91/120\n",
      "351/351 - 21s - loss: 0.7035 - accuracy: 0.8062 - val_loss: 0.6654 - val_accuracy: 0.8248\n",
      "\n",
      "Epoch 00091: val_accuracy did not improve from 0.83560\n",
      "Epoch 92/120\n",
      "351/351 - 21s - loss: 0.7044 - accuracy: 0.8062 - val_loss: 0.7249 - val_accuracy: 0.8066\n",
      "\n",
      "Epoch 00092: val_accuracy did not improve from 0.83560\n",
      "Epoch 93/120\n",
      "351/351 - 21s - loss: 0.7090 - accuracy: 0.8011 - val_loss: 0.6915 - val_accuracy: 0.8152\n",
      "\n",
      "Epoch 00093: val_accuracy did not improve from 0.83560\n",
      "Epoch 94/120\n",
      "351/351 - 22s - loss: 0.7038 - accuracy: 0.8051 - val_loss: 0.7426 - val_accuracy: 0.7990\n",
      "\n",
      "Epoch 00094: val_accuracy did not improve from 0.83560\n",
      "Epoch 95/120\n",
      "351/351 - 21s - loss: 0.7068 - accuracy: 0.8030 - val_loss: 0.6345 - val_accuracy: 0.8342\n",
      "\n",
      "Epoch 00095: val_accuracy did not improve from 0.83560\n",
      "Epoch 96/120\n",
      "351/351 - 22s - loss: 0.6990 - accuracy: 0.8070 - val_loss: 0.7246 - val_accuracy: 0.8054\n",
      "\n",
      "Epoch 00096: val_accuracy did not improve from 0.83560\n",
      "Epoch 97/120\n",
      "351/351 - 21s - loss: 0.7068 - accuracy: 0.8015 - val_loss: 0.6088 - val_accuracy: 0.8418\n",
      "\n",
      "Epoch 00097: val_accuracy improved from 0.83560 to 0.84180, saving model to mi_mejor_modelo.hdf5\n",
      "Epoch 98/120\n",
      "351/351 - 21s - loss: 0.7002 - accuracy: 0.8068 - val_loss: 0.6570 - val_accuracy: 0.8256\n",
      "\n",
      "Epoch 00098: val_accuracy did not improve from 0.84180\n",
      "Epoch 99/120\n",
      "351/351 - 21s - loss: 0.6997 - accuracy: 0.8067 - val_loss: 0.6499 - val_accuracy: 0.8264\n",
      "\n",
      "Epoch 00099: val_accuracy did not improve from 0.84180\n",
      "Epoch 100/120\n",
      "351/351 - 21s - loss: 0.6993 - accuracy: 0.8054 - val_loss: 0.6696 - val_accuracy: 0.8176\n",
      "\n",
      "Epoch 00100: val_accuracy did not improve from 0.84180\n",
      "Epoch 101/120\n",
      "351/351 - 21s - loss: 0.6990 - accuracy: 0.8081 - val_loss: 0.6960 - val_accuracy: 0.8122\n",
      "\n",
      "Epoch 00101: val_accuracy did not improve from 0.84180\n",
      "Epoch 102/120\n",
      "351/351 - 22s - loss: 0.7022 - accuracy: 0.8080 - val_loss: 0.7109 - val_accuracy: 0.8098\n",
      "\n",
      "Epoch 00102: val_accuracy did not improve from 0.84180\n",
      "Epoch 103/120\n",
      "351/351 - 21s - loss: 0.7013 - accuracy: 0.8068 - val_loss: 0.6206 - val_accuracy: 0.8348\n",
      "\n",
      "Epoch 00103: val_accuracy did not improve from 0.84180\n",
      "Epoch 104/120\n",
      "351/351 - 21s - loss: 0.6986 - accuracy: 0.8072 - val_loss: 0.6531 - val_accuracy: 0.8254\n",
      "\n",
      "Epoch 00104: val_accuracy did not improve from 0.84180\n",
      "Epoch 105/120\n",
      "351/351 - 22s - loss: 0.6977 - accuracy: 0.8077 - val_loss: 0.6637 - val_accuracy: 0.8240\n",
      "\n",
      "Epoch 00105: val_accuracy did not improve from 0.84180\n",
      "Epoch 106/120\n",
      "351/351 - 21s - loss: 0.7033 - accuracy: 0.8043 - val_loss: 0.6928 - val_accuracy: 0.8172\n",
      "\n",
      "Epoch 00106: val_accuracy did not improve from 0.84180\n",
      "Epoch 107/120\n",
      "351/351 - 21s - loss: 0.6920 - accuracy: 0.8093 - val_loss: 0.6823 - val_accuracy: 0.8178\n",
      "\n",
      "Epoch 00107: val_accuracy did not improve from 0.84180\n",
      "Epoch 108/120\n",
      "351/351 - 21s - loss: 0.6997 - accuracy: 0.8052 - val_loss: 0.7144 - val_accuracy: 0.8138\n",
      "\n",
      "Epoch 00108: val_accuracy did not improve from 0.84180\n",
      "Epoch 109/120\n",
      "351/351 - 20s - loss: 0.6921 - accuracy: 0.8083 - val_loss: 0.6656 - val_accuracy: 0.8238\n",
      "\n",
      "Epoch 00109: val_accuracy did not improve from 0.84180\n",
      "Epoch 110/120\n",
      "351/351 - 21s - loss: 0.6972 - accuracy: 0.8066 - val_loss: 0.6916 - val_accuracy: 0.8200\n",
      "\n",
      "Epoch 00110: val_accuracy did not improve from 0.84180\n",
      "Epoch 111/120\n",
      "351/351 - 21s - loss: 0.6980 - accuracy: 0.8082 - val_loss: 0.7472 - val_accuracy: 0.7962\n",
      "\n",
      "Epoch 00111: val_accuracy did not improve from 0.84180\n",
      "Epoch 112/120\n",
      "351/351 - 20s - loss: 0.6937 - accuracy: 0.8084 - val_loss: 0.6770 - val_accuracy: 0.8216\n",
      "\n",
      "Epoch 00112: val_accuracy did not improve from 0.84180\n",
      "Epoch 113/120\n",
      "351/351 - 22s - loss: 0.6925 - accuracy: 0.8070 - val_loss: 0.6661 - val_accuracy: 0.8226\n",
      "\n",
      "Epoch 00113: val_accuracy did not improve from 0.84180\n",
      "Epoch 114/120\n",
      "351/351 - 21s - loss: 0.6954 - accuracy: 0.8087 - val_loss: 0.7219 - val_accuracy: 0.8008\n",
      "\n",
      "Epoch 00114: val_accuracy did not improve from 0.84180\n",
      "Epoch 115/120\n",
      "351/351 - 20s - loss: 0.6917 - accuracy: 0.8103 - val_loss: 0.6857 - val_accuracy: 0.8216\n",
      "\n",
      "Epoch 00115: val_accuracy did not improve from 0.84180\n",
      "Epoch 116/120\n",
      "351/351 - 21s - loss: 0.6953 - accuracy: 0.8078 - val_loss: 0.7000 - val_accuracy: 0.8134\n",
      "\n",
      "Epoch 00116: val_accuracy did not improve from 0.84180\n",
      "Epoch 117/120\n",
      "351/351 - 20s - loss: 0.6974 - accuracy: 0.8070 - val_loss: 0.6353 - val_accuracy: 0.8342\n",
      "\n",
      "Epoch 00117: val_accuracy did not improve from 0.84180\n",
      "Epoch 118/120\n",
      "351/351 - 21s - loss: 0.6944 - accuracy: 0.8069 - val_loss: 0.6823 - val_accuracy: 0.8208\n",
      "\n",
      "Epoch 00118: val_accuracy did not improve from 0.84180\n",
      "Epoch 119/120\n",
      "351/351 - 21s - loss: 0.6973 - accuracy: 0.8093 - val_loss: 0.6608 - val_accuracy: 0.8296\n",
      "\n",
      "Epoch 00119: val_accuracy did not improve from 0.84180\n",
      "Epoch 120/120\n",
      "351/351 - 21s - loss: 0.6883 - accuracy: 0.8101 - val_loss: 0.6335 - val_accuracy: 0.8312\n",
      "\n",
      "Epoch 00120: val_accuracy did not improve from 0.84180\n"
     ]
    }
   ],
   "source": [
    "hist = model.fit(datagen.flow(x_train, y_train, batch_size=128),\n",
    "          callbacks=[chekcpoint],\n",
    "          steps_per_epoch=x_train.shape[0] // 128, \n",
    "          epochs=120,\n",
    "          verbose=2,\n",
    "          validation_data=(x_valid, y_valid)\n",
    "         )"
   ]
  },
  {
   "cell_type": "markdown",
   "id": "84342a8e",
   "metadata": {
    "papermill": {
     "duration": 0.109135,
     "end_time": "2022-04-18T22:14:15.895283",
     "exception": false,
     "start_time": "2022-04-18T22:14:15.786148",
     "status": "completed"
    },
    "tags": []
   },
   "source": [
    "## Resultados"
   ]
  },
  {
   "cell_type": "code",
   "execution_count": 20,
   "id": "2ca3d80a",
   "metadata": {
    "execution": {
     "iopub.execute_input": "2022-04-18T22:14:16.127250Z",
     "iopub.status.busy": "2022-04-18T22:14:16.126425Z",
     "iopub.status.idle": "2022-04-18T22:14:16.318789Z",
     "shell.execute_reply": "2022-04-18T22:14:16.318362Z"
    },
    "papermill": {
     "duration": 0.311853,
     "end_time": "2022-04-18T22:14:16.318909",
     "exception": false,
     "start_time": "2022-04-18T22:14:16.007056",
     "status": "completed"
    },
    "tags": []
   },
   "outputs": [
    {
     "data": {
      "image/png": "[encoded data removed]",
      "text/plain": [
       "<Figure size 432x288 with 1 Axes>"
      ]
     },
     "metadata": {
      "needs_background": "light"
     },
     "output_type": "display_data"
    }
   ],
   "source": [
    "plt.plot(hist.history['accuracy'],label='Train')\n",
    "plt.plot(hist.history['val_accuracy'],label='Val')\n",
    "plt.legend()\n",
    "plt.show()"
   ]
  },
  {
   "cell_type": "code",
   "execution_count": 21,
   "id": "407579f1",
   "metadata": {
    "execution": {
     "iopub.execute_input": "2022-04-18T22:14:16.547531Z",
     "iopub.status.busy": "2022-04-18T22:14:16.546717Z",
     "iopub.status.idle": "2022-04-18T22:14:16.548733Z",
     "shell.execute_reply": "2022-04-18T22:14:16.549121Z"
    },
    "papermill": {
     "duration": 0.117323,
     "end_time": "2022-04-18T22:14:16.549285",
     "exception": false,
     "start_time": "2022-04-18T22:14:16.431962",
     "status": "completed"
    },
    "tags": []
   },
   "outputs": [],
   "source": [
    "model2 = model"
   ]
  },
  {
   "cell_type": "code",
   "execution_count": 22,
   "id": "3dcbe8af",
   "metadata": {
    "execution": {
     "iopub.execute_input": "2022-04-18T22:14:16.791391Z",
     "iopub.status.busy": "2022-04-18T22:14:16.790550Z",
     "iopub.status.idle": "2022-04-18T22:14:16.804517Z",
     "shell.execute_reply": "2022-04-18T22:14:16.803808Z"
    },
    "papermill": {
     "duration": 0.145737,
     "end_time": "2022-04-18T22:14:16.804627",
     "exception": false,
     "start_time": "2022-04-18T22:14:16.658890",
     "status": "completed"
    },
    "tags": []
   },
   "outputs": [],
   "source": [
    "model2.load_weights('./mi_mejor_modelo.hdf5')"
   ]
  },
  {
   "cell_type": "code",
   "execution_count": 23,
   "id": "57287d9c",
   "metadata": {
    "execution": {
     "iopub.execute_input": "2022-04-18T22:14:17.029847Z",
     "iopub.status.busy": "2022-04-18T22:14:17.029042Z",
     "iopub.status.idle": "2022-04-18T22:14:18.338681Z",
     "shell.execute_reply": "2022-04-18T22:14:18.337888Z"
    },
    "papermill": {
     "duration": 1.423058,
     "end_time": "2022-04-18T22:14:18.338900",
     "exception": false,
     "start_time": "2022-04-18T22:14:16.915842",
     "status": "completed"
    },
    "tags": []
   },
   "outputs": [
    {
     "name": "stdout",
     "output_type": "stream",
     "text": [
      "313/313 [==============================] - 1s 3ms/step - loss: 0.6489 - accuracy: 0.8327\n"
     ]
    },
    {
     "data": {
      "text/plain": [
       "[0.6488964557647705, 0.8327000141143799]"
      ]
     },
     "execution_count": 23,
     "metadata": {},
     "output_type": "execute_result"
    }
   ],
   "source": [
    "model2.evaluate(x_test,y_test)"
   ]
  }
 ],
 "metadata": {
  "kernelspec": {
   "display_name": "Python 3",
   "language": "python",
   "name": "python3"
  },
  "language_info": {
   "codemirror_mode": {
    "name": "ipython",
    "version": 3
   },
   "file_extension": ".py",
   "mimetype": "text/x-python",
   "name": "python",
   "nbconvert_exporter": "python",
   "pygments_lexer": "ipython3",
   "version": "3.7.10"
  },
  "papermill": {
   "default_parameters": {},
   "duration": 2622.354256,
   "end_time": "2022-04-18T22:14:21.606087",
   "environment_variables": {},
   "exception": null,
   "input_path": "__notebook__.ipynb",
   "output_path": "__notebook__.ipynb",
   "parameters": {},
   "start_time": "2022-04-18T21:30:39.251831",
   "version": "2.3.3"
  }
 },
 "nbformat": 4,
 "nbformat_minor": 5
}
