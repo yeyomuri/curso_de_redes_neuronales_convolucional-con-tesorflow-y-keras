{
 "cells": [
  {
   "cell_type": "code",
   "execution_count": 1,
   "id": "3697b023",
   "metadata": {
    "_cell_guid": "b1076dfc-b9ad-4769-8c92-a6c4dae69d19",
    "_uuid": "8f2839f25d086af736a60e9eeb907d3b93b6e0e5",
    "execution": {
     "iopub.execute_input": "2022-04-18T11:55:56.174576Z",
     "iopub.status.busy": "2022-04-18T11:55:56.174128Z",
     "iopub.status.idle": "2022-04-18T11:56:01.484918Z",
     "shell.execute_reply": "2022-04-18T11:56:01.484145Z"
    },
    "papermill": {
     "duration": 5.338775,
     "end_time": "2022-04-18T11:56:01.487488",
     "exception": false,
     "start_time": "2022-04-18T11:55:56.148713",
     "status": "completed"
    },
    "tags": []
   },
   "outputs": [],
   "source": [
    "import tensorflow as tf\n",
    "from tensorflow.keras.datasets import fashion_mnist\n",
    "from tensorflow.keras.layers import Conv2D, Dropout, MaxPooling2D, Flatten, Dense\n",
    "import numpy as np\n",
    "import matplotlib.pyplot as plt"
   ]
  },
  {
   "cell_type": "code",
   "execution_count": 2,
   "id": "2c1b89c5",
   "metadata": {
    "execution": {
     "iopub.execute_input": "2022-04-18T11:56:01.513963Z",
     "iopub.status.busy": "2022-04-18T11:56:01.513749Z",
     "iopub.status.idle": "2022-04-18T11:56:02.773659Z",
     "shell.execute_reply": "2022-04-18T11:56:02.772907Z"
    },
    "papermill": {
     "duration": 1.275702,
     "end_time": "2022-04-18T11:56:02.775733",
     "exception": false,
     "start_time": "2022-04-18T11:56:01.500031",
     "status": "completed"
    },
    "tags": []
   },
   "outputs": [
    {
     "name": "stdout",
     "output_type": "stream",
     "text": [
      "Downloading data from https://storage.googleapis.com/tensorflow/tf-keras-datasets/train-labels-idx1-ubyte.gz\n",
      "32768/29515 [=================================] - 0s 0us/step\n",
      "40960/29515 [=========================================] - 0s 0us/step\n",
      "Downloading data from https://storage.googleapis.com/tensorflow/tf-keras-datasets/train-images-idx3-ubyte.gz\n",
      "26427392/26421880 [==============================] - 0s 0us/step\n",
      "26435584/26421880 [==============================] - 0s 0us/step\n",
      "Downloading data from https://storage.googleapis.com/tensorflow/tf-keras-datasets/t10k-labels-idx1-ubyte.gz\n",
      "16384/5148 [===============================================================================================] - 0s 0us/step\n",
      "Downloading data from https://storage.googleapis.com/tensorflow/tf-keras-datasets/t10k-images-idx3-ubyte.gz\n",
      "4423680/4422102 [==============================] - 0s 0us/step\n",
      "4431872/4422102 [==============================] - 0s 0us/step\n"
     ]
    }
   ],
   "source": [
    "(train_images, train_labels), (test_images, test_labels) = fashion_mnist.load_data()"
   ]
  },
  {
   "cell_type": "code",
   "execution_count": 3,
   "id": "a3d5a893",
   "metadata": {
    "execution": {
     "iopub.execute_input": "2022-04-18T11:56:02.811505Z",
     "iopub.status.busy": "2022-04-18T11:56:02.810847Z",
     "iopub.status.idle": "2022-04-18T11:56:02.817290Z",
     "shell.execute_reply": "2022-04-18T11:56:02.816681Z"
    },
    "papermill": {
     "duration": 0.026476,
     "end_time": "2022-04-18T11:56:02.819462",
     "exception": false,
     "start_time": "2022-04-18T11:56:02.792986",
     "status": "completed"
    },
    "tags": []
   },
   "outputs": [
    {
     "data": {
      "text/plain": [
       "(60000, 28, 28)"
      ]
     },
     "execution_count": 3,
     "metadata": {},
     "output_type": "execute_result"
    }
   ],
   "source": [
    "#Hay 60000 imagenes con una resolución de 28 x 28\n",
    "train_images.shape"
   ]
  },
  {
   "cell_type": "code",
   "execution_count": 4,
   "id": "4efd4f31",
   "metadata": {
    "execution": {
     "iopub.execute_input": "2022-04-18T11:56:02.855172Z",
     "iopub.status.busy": "2022-04-18T11:56:02.854492Z",
     "iopub.status.idle": "2022-04-18T11:56:03.052267Z",
     "shell.execute_reply": "2022-04-18T11:56:03.051553Z"
    },
    "papermill": {
     "duration": 0.217887,
     "end_time": "2022-04-18T11:56:03.054158",
     "exception": false,
     "start_time": "2022-04-18T11:56:02.836271",
     "status": "completed"
    },
    "tags": []
   },
   "outputs": [
    {
     "data": {
      "text/plain": [
       "<matplotlib.image.AxesImage at 0x7f9df4c561d0>"
      ]
     },
     "execution_count": 4,
     "metadata": {},
     "output_type": "execute_result"
    },
    {
     "data": {
      "image/png": "[encoded data removed]",
      "text/plain": [
       "<Figure size 432x288 with 1 Axes>"
      ]
     },
     "metadata": {
      "needs_background": "light"
     },
     "output_type": "display_data"
    }
   ],
   "source": [
    "plt.imshow(train_images[0])"
   ]
  },
  {
   "cell_type": "markdown",
   "id": "705a9661",
   "metadata": {
    "papermill": {
     "duration": 0.018021,
     "end_time": "2022-04-18T11:56:03.090639",
     "exception": false,
     "start_time": "2022-04-18T11:56:03.072618",
     "status": "completed"
    },
    "tags": []
   },
   "source": [
    "## Liempieza de datos"
   ]
  },
  {
   "cell_type": "code",
   "execution_count": 5,
   "id": "a89eda09",
   "metadata": {
    "execution": {
     "iopub.execute_input": "2022-04-18T11:56:03.128805Z",
     "iopub.status.busy": "2022-04-18T11:56:03.128095Z",
     "iopub.status.idle": "2022-04-18T11:56:03.207998Z",
     "shell.execute_reply": "2022-04-18T11:56:03.207156Z"
    },
    "papermill": {
     "duration": 0.101226,
     "end_time": "2022-04-18T11:56:03.210057",
     "exception": false,
     "start_time": "2022-04-18T11:56:03.108831",
     "status": "completed"
    },
    "tags": []
   },
   "outputs": [],
   "source": [
    "#Se mapea los de un byte a valores de 0 a 1 en coma flotante\n",
    "train_images = train_images.astype('float32') / 255\n",
    "test_images = test_images.astype('float32') / 255"
   ]
  },
  {
   "cell_type": "code",
   "execution_count": 6,
   "id": "0a259db7",
   "metadata": {
    "execution": {
     "iopub.execute_input": "2022-04-18T11:56:03.248567Z",
     "iopub.status.busy": "2022-04-18T11:56:03.247163Z",
     "iopub.status.idle": "2022-04-18T11:56:03.252272Z",
     "shell.execute_reply": "2022-04-18T11:56:03.251660Z"
    },
    "papermill": {
     "duration": 0.025593,
     "end_time": "2022-04-18T11:56:03.253920",
     "exception": false,
     "start_time": "2022-04-18T11:56:03.228327",
     "status": "completed"
    },
    "tags": []
   },
   "outputs": [],
   "source": [
    "train_images = train_images.reshape(train_images.shape[0], 28, 28, 1)\n",
    "test_images = test_images.reshape(test_images.shape[0], 28, 28, 1)"
   ]
  },
  {
   "cell_type": "code",
   "execution_count": 7,
   "id": "675265ae",
   "metadata": {
    "execution": {
     "iopub.execute_input": "2022-04-18T11:56:03.292664Z",
     "iopub.status.busy": "2022-04-18T11:56:03.292257Z",
     "iopub.status.idle": "2022-04-18T11:56:03.298328Z",
     "shell.execute_reply": "2022-04-18T11:56:03.297707Z"
    },
    "papermill": {
     "duration": 0.028212,
     "end_time": "2022-04-18T11:56:03.300023",
     "exception": false,
     "start_time": "2022-04-18T11:56:03.271811",
     "status": "completed"
    },
    "tags": []
   },
   "outputs": [],
   "source": [
    "train_labels = tf.keras.utils.to_categorical(train_labels, 10)\n",
    "test_labels = tf.keras.utils.to_categorical(test_labels, 10)"
   ]
  },
  {
   "cell_type": "markdown",
   "id": "515813cb",
   "metadata": {
    "papermill": {
     "duration": 0.017559,
     "end_time": "2022-04-18T11:56:03.335398",
     "exception": false,
     "start_time": "2022-04-18T11:56:03.317839",
     "status": "completed"
    },
    "tags": []
   },
   "source": [
    "## Modelo de datos"
   ]
  },
  {
   "cell_type": "code",
   "execution_count": 8,
   "id": "07c2b3b4",
   "metadata": {
    "execution": {
     "iopub.execute_input": "2022-04-18T11:56:03.372290Z",
     "iopub.status.busy": "2022-04-18T11:56:03.371822Z",
     "iopub.status.idle": "2022-04-18T11:56:05.781548Z",
     "shell.execute_reply": "2022-04-18T11:56:05.780097Z"
    },
    "papermill": {
     "duration": 2.43173,
     "end_time": "2022-04-18T11:56:05.784855",
     "exception": false,
     "start_time": "2022-04-18T11:56:03.353125",
     "status": "completed"
    },
    "tags": []
   },
   "outputs": [
    {
     "name": "stderr",
     "output_type": "stream",
     "text": [
      "2022-04-18 11:56:03.452458: I tensorflow/stream_executor/cuda/cuda_gpu_executor.cc:937] successful NUMA node read from SysFS had negative value (-1), but there must be at least one NUMA node, so returning NUMA node zero\n"
     ]
    },
    {
     "name": "stdout",
     "output_type": "stream",
     "text": [
      "Model: \"sequential\"\n",
      "_________________________________________________________________\n",
      "Layer (type)                 Output Shape              Param #   \n",
      "=================================================================\n",
      "conv2d (Conv2D)              (None, 28, 28, 64)        320       \n",
      "_________________________________________________________________\n",
      "max_pooling2d (MaxPooling2D) (None, 14, 14, 64)        0         \n",
      "_________________________________________________________________\n",
      "dropout (Dropout)            (None, 14, 14, 64)        0         \n",
      "_________________________________________________________________\n",
      "conv2d_1 (Conv2D)            (None, 14, 14, 32)        8224      \n",
      "_________________________________________________________________\n",
      "max_pooling2d_1 (MaxPooling2 (None, 7, 7, 32)          0         \n",
      "_________________________________________________________________\n",
      "dropout_1 (Dropout)          (None, 7, 7, 32)          0         \n",
      "_________________________________________________________________\n",
      "flatten (Flatten)            (None, 1568)              0         \n",
      "_________________________________________________________________\n",
      "dense (Dense)                (None, 256)               401664    \n",
      "_________________________________________________________________\n",
      "dropout_2 (Dropout)          (None, 256)               0         \n",
      "_________________________________________________________________\n",
      "dense_1 (Dense)              (None, 10)                2570      \n",
      "=================================================================\n",
      "Total params: 412,778\n",
      "Trainable params: 412,778\n",
      "Non-trainable params: 0\n",
      "_________________________________________________________________\n"
     ]
    },
    {
     "name": "stderr",
     "output_type": "stream",
     "text": [
      "2022-04-18 11:56:03.554704: I tensorflow/stream_executor/cuda/cuda_gpu_executor.cc:937] successful NUMA node read from SysFS had negative value (-1), but there must be at least one NUMA node, so returning NUMA node zero\n",
      "2022-04-18 11:56:03.555459: I tensorflow/stream_executor/cuda/cuda_gpu_executor.cc:937] successful NUMA node read from SysFS had negative value (-1), but there must be at least one NUMA node, so returning NUMA node zero\n",
      "2022-04-18 11:56:03.557096: I tensorflow/core/platform/cpu_feature_guard.cc:142] This TensorFlow binary is optimized with oneAPI Deep Neural Network Library (oneDNN) to use the following CPU instructions in performance-critical operations:  AVX2 AVX512F FMA\n",
      "To enable them in other operations, rebuild TensorFlow with the appropriate compiler flags.\n",
      "2022-04-18 11:56:03.557410: I tensorflow/stream_executor/cuda/cuda_gpu_executor.cc:937] successful NUMA node read from SysFS had negative value (-1), but there must be at least one NUMA node, so returning NUMA node zero\n",
      "2022-04-18 11:56:03.558167: I tensorflow/stream_executor/cuda/cuda_gpu_executor.cc:937] successful NUMA node read from SysFS had negative value (-1), but there must be at least one NUMA node, so returning NUMA node zero\n",
      "2022-04-18 11:56:03.558862: I tensorflow/stream_executor/cuda/cuda_gpu_executor.cc:937] successful NUMA node read from SysFS had negative value (-1), but there must be at least one NUMA node, so returning NUMA node zero\n",
      "2022-04-18 11:56:05.382255: I tensorflow/stream_executor/cuda/cuda_gpu_executor.cc:937] successful NUMA node read from SysFS had negative value (-1), but there must be at least one NUMA node, so returning NUMA node zero\n",
      "2022-04-18 11:56:05.383244: I tensorflow/stream_executor/cuda/cuda_gpu_executor.cc:937] successful NUMA node read from SysFS had negative value (-1), but there must be at least one NUMA node, so returning NUMA node zero\n",
      "2022-04-18 11:56:05.383950: I tensorflow/stream_executor/cuda/cuda_gpu_executor.cc:937] successful NUMA node read from SysFS had negative value (-1), but there must be at least one NUMA node, so returning NUMA node zero\n",
      "2022-04-18 11:56:05.385283: I tensorflow/core/common_runtime/gpu/gpu_device.cc:1510] Created device /job:localhost/replica:0/task:0/device:GPU:0 with 15403 MB memory:  -> device: 0, name: Tesla P100-PCIE-16GB, pci bus id: 0000:00:04.0, compute capability: 6.0\n"
     ]
    }
   ],
   "source": [
    "model = tf.keras.Sequential()\n",
    "#Capa de entrada\n",
    "model.add(Conv2D(filters=64, kernel_size = 2, padding = 'same', activation = 'relu', input_shape = (28,28,1)))\n",
    "model.add(MaxPooling2D(pool_size = 2))\n",
    "model.add(Dropout(0.3))\n",
    "model.add(Conv2D(filters=32, kernel_size = 2, padding = 'same', activation = 'relu'))\n",
    "model.add(MaxPooling2D(pool_size = 2))\n",
    "model.add(Dropout(0.3)) ## Dropout para reducir overfitting\n",
    "model.add(Flatten())\n",
    "model.add(Dense(256, activation = 'relu'))\n",
    "model.add(Dropout(0.5))\n",
    "model.add(Dense(10, activation = 'softmax'))\n",
    "model.summary()"
   ]
  },
  {
   "cell_type": "markdown",
   "id": "9ddbfa19",
   "metadata": {
    "papermill": {
     "duration": 0.019325,
     "end_time": "2022-04-18T11:56:05.824039",
     "exception": false,
     "start_time": "2022-04-18T11:56:05.804714",
     "status": "completed"
    },
    "tags": []
   },
   "source": [
    "## Compilar y entrenar"
   ]
  },
  {
   "cell_type": "code",
   "execution_count": 9,
   "id": "6795dbe7",
   "metadata": {
    "execution": {
     "iopub.execute_input": "2022-04-18T11:56:05.862802Z",
     "iopub.status.busy": "2022-04-18T11:56:05.862571Z",
     "iopub.status.idle": "2022-04-18T11:56:05.874358Z",
     "shell.execute_reply": "2022-04-18T11:56:05.873721Z"
    },
    "papermill": {
     "duration": 0.033065,
     "end_time": "2022-04-18T11:56:05.875984",
     "exception": false,
     "start_time": "2022-04-18T11:56:05.842919",
     "status": "completed"
    },
    "tags": []
   },
   "outputs": [],
   "source": [
    "model.compile(loss='categorical_crossentropy', optimizer = 'rmsprop', metrics = ['accuracy'])"
   ]
  },
  {
   "cell_type": "code",
   "execution_count": 10,
   "id": "dc145aa3",
   "metadata": {
    "execution": {
     "iopub.execute_input": "2022-04-18T11:56:05.915249Z",
     "iopub.status.busy": "2022-04-18T11:56:05.914707Z",
     "iopub.status.idle": "2022-04-18T11:56:50.565431Z",
     "shell.execute_reply": "2022-04-18T11:56:50.564730Z"
    },
    "papermill": {
     "duration": 44.672048,
     "end_time": "2022-04-18T11:56:50.567139",
     "exception": false,
     "start_time": "2022-04-18T11:56:05.895091",
     "status": "completed"
    },
    "tags": []
   },
   "outputs": [
    {
     "name": "stderr",
     "output_type": "stream",
     "text": [
      "2022-04-18 11:56:06.308171: I tensorflow/compiler/mlir/mlir_graph_optimization_pass.cc:185] None of the MLIR Optimization Passes are enabled (registered 2)\n"
     ]
    },
    {
     "name": "stdout",
     "output_type": "stream",
     "text": [
      "Epoch 1/10\n"
     ]
    },
    {
     "name": "stderr",
     "output_type": "stream",
     "text": [
      "2022-04-18 11:56:07.810845: I tensorflow/stream_executor/cuda/cuda_dnn.cc:369] Loaded cuDNN version 8005\n"
     ]
    },
    {
     "name": "stdout",
     "output_type": "stream",
     "text": [
      "938/938 [==============================] - 11s 4ms/step - loss: 0.5708 - accuracy: 0.7906\n",
      "Epoch 2/10\n",
      "938/938 [==============================] - 4s 4ms/step - loss: 0.3872 - accuracy: 0.8625\n",
      "Epoch 3/10\n",
      "938/938 [==============================] - 4s 4ms/step - loss: 0.3478 - accuracy: 0.8762\n",
      "Epoch 4/10\n",
      "938/938 [==============================] - 4s 4ms/step - loss: 0.3299 - accuracy: 0.8829\n",
      "Epoch 5/10\n",
      "938/938 [==============================] - 4s 4ms/step - loss: 0.3217 - accuracy: 0.8856\n",
      "Epoch 6/10\n",
      "938/938 [==============================] - 4s 4ms/step - loss: 0.3174 - accuracy: 0.8878\n",
      "Epoch 7/10\n",
      "938/938 [==============================] - 4s 4ms/step - loss: 0.3140 - accuracy: 0.8896\n",
      "Epoch 8/10\n",
      "938/938 [==============================] - 4s 4ms/step - loss: 0.3134 - accuracy: 0.8903\n",
      "Epoch 9/10\n",
      "938/938 [==============================] - 4s 4ms/step - loss: 0.3153 - accuracy: 0.8897\n",
      "Epoch 10/10\n",
      "938/938 [==============================] - 4s 4ms/step - loss: 0.3165 - accuracy: 0.8888\n"
     ]
    },
    {
     "data": {
      "text/plain": [
       "<keras.callbacks.History at 0x7f9df292c7d0>"
      ]
     },
     "execution_count": 10,
     "metadata": {},
     "output_type": "execute_result"
    }
   ],
   "source": [
    "model.fit(train_images, train_labels, batch_size = 64, epochs = 10)"
   ]
  },
  {
   "cell_type": "code",
   "execution_count": 11,
   "id": "4e400881",
   "metadata": {
    "execution": {
     "iopub.execute_input": "2022-04-18T11:56:51.055622Z",
     "iopub.status.busy": "2022-04-18T11:56:51.055367Z",
     "iopub.status.idle": "2022-04-18T11:56:51.848189Z",
     "shell.execute_reply": "2022-04-18T11:56:51.847520Z"
    },
    "papermill": {
     "duration": 1.038768,
     "end_time": "2022-04-18T11:56:51.850040",
     "exception": false,
     "start_time": "2022-04-18T11:56:50.811272",
     "status": "completed"
    },
    "tags": []
   },
   "outputs": [
    {
     "data": {
      "text/plain": [
       "[0.30162110924720764, 0.900600016117096]"
      ]
     },
     "execution_count": 11,
     "metadata": {},
     "output_type": "execute_result"
    }
   ],
   "source": [
    "model.evaluate(test_images, test_labels, verbose = 0)"
   ]
  },
  {
   "cell_type": "code",
   "execution_count": null,
   "id": "aa0d042d",
   "metadata": {
    "papermill": {
     "duration": 0.247248,
     "end_time": "2022-04-18T11:56:52.342055",
     "exception": false,
     "start_time": "2022-04-18T11:56:52.094807",
     "status": "completed"
    },
    "tags": []
   },
   "outputs": [],
   "source": []
  }
 ],
 "metadata": {
  "kernelspec": {
   "display_name": "Python 3",
   "language": "python",
   "name": "python3"
  },
  "language_info": {
   "codemirror_mode": {
    "name": "ipython",
    "version": 3
   },
   "file_extension": ".py",
   "mimetype": "text/x-python",
   "name": "python",
   "nbconvert_exporter": "python",
   "pygments_lexer": "ipython3",
   "version": "3.7.12"
  },
  "papermill": {
   "default_parameters": {},
   "duration": 67.283661,
   "end_time": "2022-04-18T11:56:55.639170",
   "environment_variables": {},
   "exception": null,
   "input_path": "__notebook__.ipynb",
   "output_path": "__notebook__.ipynb",
   "parameters": {},
   "start_time": "2022-04-18T11:55:48.355509",
   "version": "2.3.4"
  }
 },
 "nbformat": 4,
 "nbformat_minor": 5
}
